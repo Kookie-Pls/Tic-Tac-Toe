{
 "cells": [
  {
   "cell_type": "code",
   "execution_count": 1,
   "metadata": {},
   "outputs": [],
   "source": [
    "from IPython.display import clear_output\n",
    "\n",
    "def display_board(board):\n",
    "    clear_output()\n",
    "    \n",
    "    print([' {} '.format(board[7]),' {} '.format(board[8]),' {} '.format(board[9])])\n",
    "    print([' {} '.format(board[4]),' {} '.format(board[5]),' {} '.format(board[6])])\n",
    "    print([' {} '.format(board[1]),' {} '.format(board[2]),' {} '.format(board[3])])"
   ]
  },
  {
   "cell_type": "code",
   "execution_count": 2,
   "metadata": {},
   "outputs": [],
   "source": [
    "def player_input():\n",
    "    marker = ''\n",
    "    \n",
    "    while not (marker == 'X' or marker == 'O'):\n",
    "        marker = input('Player 1: Do you want to be X or O? ').upper()\n",
    "        \n",
    "    if marker == 'X':\n",
    "        return ('X','O')\n",
    "    else:\n",
    "        return ('O','X')"
   ]
  },
  {
   "cell_type": "code",
   "execution_count": 3,
   "metadata": {},
   "outputs": [],
   "source": [
    "def place_marker(board, marker, position):\n",
    "    board[position] = marker"
   ]
  },
  {
   "cell_type": "code",
   "execution_count": 4,
   "metadata": {},
   "outputs": [],
   "source": [
    "def win_check(board, mark):\n",
    "    \n",
    "    return((board[7] == mark and board[8] == mark and board[9] == mark) or (board[4] == mark and board[5] == mark and board[6] == mark) or(board[1] == mark and board[2] == mark and board[3] == mark) or(board[1] == mark and board[4] == mark and board[7] == mark) or(board[2] == mark and board[5] == mark and board[8] == mark) or(board[3] == mark and board[6] == mark and board[9] == mark) or(board[1] == mark and board[5] == mark and board[9] == mark) or(board[3] == mark and board[5] == mark and board[7] == mark))       "
   ]
  },
  {
   "cell_type": "code",
   "execution_count": 5,
   "metadata": {},
   "outputs": [],
   "source": [
    "from random import randint\n",
    "\n",
    "player1 = 1\n",
    "player2 = 2\n",
    "\n",
    "def choose_first():\n",
    "    \n",
    "    num = randint(1,3)\n",
    "    \n",
    "    if num == 1:\n",
    "        return 'Player 1'\n",
    "    else:\n",
    "        return 'Player 2'   "
   ]
  },
  {
   "cell_type": "code",
   "execution_count": 6,
   "metadata": {},
   "outputs": [],
   "source": [
    "def space_check(board, position):\n",
    "    \n",
    "    return board[position] == ' '"
   ]
  },
  {
   "cell_type": "code",
   "execution_count": 7,
   "metadata": {},
   "outputs": [],
   "source": [
    "def full_board_check(board):\n",
    "    for i in range(1,10):\n",
    "        # If I possess a space that means that my board is not full then I return False.\n",
    "        if space_check(board, i):\n",
    "            return False\n",
    "    \n",
    "    # Board is full if we return True\n",
    "    return True"
   ]
  },
  {
   "cell_type": "code",
   "execution_count": 13,
   "metadata": {},
   "outputs": [],
   "source": [
    "def player_choice(board):\n",
    "    position = 0\n",
    "    \n",
    "    while position not in [1,2,3,4,5,6,7,8,9] or not space_check(board, position):\n",
    "        \n",
    "        try:\n",
    "            position = int(input('Choose your next position: (1-9) '))\n",
    "        except:\n",
    "            print(\"That's not a number! Please try again!\")\n",
    "        \n",
    "    return position               "
   ]
  },
  {
   "cell_type": "code",
   "execution_count": 9,
   "metadata": {},
   "outputs": [],
   "source": [
    "def replay():\n",
    "    \n",
    "    choice = 'wrong'\n",
    "    \n",
    "    while choice not in ['Y','N']:\n",
    "        \n",
    "        choice = input(\"Want to play again? (Y or N) \").upper()\n",
    "        \n",
    "        if choice not in ['Y','N']:\n",
    "            print(\"Apologies, choice invalid, please choose Y or N\")\n",
    "            \n",
    "    if choice == 'Y':\n",
    "        return True\n",
    "    else:\n",
    "        return False"
   ]
  },
  {
   "cell_type": "code",
   "execution_count": 15,
   "metadata": {},
   "outputs": [
    {
     "name": "stdout",
     "output_type": "stream",
     "text": [
      "['   ', '   ', ' X ']\n",
      "['   ', ' X ', '   ']\n",
      "[' X ', ' O ', ' O ']\n",
      "Congratulations! You have won the game!\n",
      "Want to play again? (Y or N) n\n"
     ]
    }
   ],
   "source": [
    "# WHILE LOOP TO KEEP RUNNING THE GAME\n",
    "print('Welcome to Tic Tac Toe!')\n",
    "\n",
    "while True:\n",
    "    \n",
    "    # PLAY THE GAME\n",
    "    \n",
    "    ## Set everything up ( Board, Who's first, Choose Markers (X,O) )\n",
    "    theBoard = [' '] * 10\n",
    "    player1_marker, player2_marker = player_input()\n",
    "    turn =  choose_first()\n",
    "    print(turn + ' will go first. ')\n",
    "    \n",
    "    play_game = input('Are you ready to play? Enter Yes or No.')\n",
    "    \n",
    "    if play_game.lower()[0] == 'y':\n",
    "        game_on = True\n",
    "    else:\n",
    "        game_on = False\n",
    "        \n",
    "    ## Gameplay\n",
    "    \n",
    "    while game_on:\n",
    "        if turn == 'Player 1':\n",
    "            \n",
    "            # Show the board\n",
    "            display_board(theBoard)\n",
    "            # Choose the position\n",
    "            position = player_choice(theBoard)\n",
    "            # Place the marker on the position\n",
    "            place_marker(theBoard, player1_marker, position)\n",
    "            \n",
    "            # Check if they won\n",
    "            if win_check(theBoard, player1_marker):\n",
    "                display_board(theBoard)\n",
    "                print('Congratulations! You have won the game!')\n",
    "                game_on = False\n",
    "            # Or check if there is tie\n",
    "            else:\n",
    "                if full_board_check(theBoard):\n",
    "                    display_board(theBoard)\n",
    "                    print('The game is a draw!')\n",
    "                    break\n",
    "                # No tie and no win? Then next player's turn\n",
    "                else:\n",
    "                    turn = 'Player 2'\n",
    "                    \n",
    "        ### Player One Turn\n",
    "        \n",
    "        else:\n",
    "            \n",
    "            # Show the board\n",
    "            display_board(theBoard)\n",
    "            # Choose the position\n",
    "            position = player_choice(theBoard)\n",
    "            # Place the marker on the position\n",
    "            place_marker(theBoard, player2_marker, position)\n",
    "            \n",
    "            # Check if they won\n",
    "            if win_check(theBoard, player2_marker):\n",
    "                display_board(theBoard)\n",
    "                print('Player 2 has won!')\n",
    "                game_on = False\n",
    "            # Or check if there is a tie\n",
    "            else:\n",
    "                if full_board_check(theBoard):\n",
    "                    display_board(theBoard)\n",
    "                    print('The game is a draw!')\n",
    "                    break\n",
    "                else:\n",
    "                    turn = 'Player 1'\n",
    "        \n",
    "        # Player Two Turn\n",
    "                    \n",
    "    if not replay():\n",
    "        break\n",
    "    # BREAK OUT OF THE WHILE LOOP ON replay()"
   ]
  },
  {
   "cell_type": "code",
   "execution_count": null,
   "metadata": {},
   "outputs": [],
   "source": []
  }
 ],
 "metadata": {
  "kernelspec": {
   "display_name": "Python 3",
   "language": "python",
   "name": "python3"
  },
  "language_info": {
   "codemirror_mode": {
    "name": "ipython",
    "version": 3
   },
   "file_extension": ".py",
   "mimetype": "text/x-python",
   "name": "python",
   "nbconvert_exporter": "python",
   "pygments_lexer": "ipython3",
   "version": "3.8.5"
  }
 },
 "nbformat": 4,
 "nbformat_minor": 4
}
